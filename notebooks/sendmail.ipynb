{
 "cells": [
  {
   "cell_type": "code",
   "execution_count": 5,
   "metadata": {},
   "outputs": [
    {
     "name": "stdout",
     "output_type": "stream",
     "text": [
      "rawley.greene@gmail.com\n",
      "Sent!\n"
     ]
    }
   ],
   "source": [
    "import smtplib\n",
    "from email.mime.text import MIMEText\n",
    "import dotenv\n",
    "import os\n",
    "\n",
    "dotenv.load_dotenv()\n",
    "\n",
    "#Config\n",
    "port = 587\n",
    "smtp_server = 'smtp-relay.brevo.com'\n",
    "login = os.getenv('MAIL_USER')\n",
    "password = os.getenv('MAIL_PASS')\n",
    "sender_email = 'no-reply@drrawley.com'\n",
    "receiver_email = 'rawley.greene@gmail.com'\n",
    "\n",
    "#Make a simulated contact\n",
    "contact = {}\n",
    "contact['name'] = \"Test Name\"\n",
    "contact['email'] = \"test@email.com\"\n",
    "contact['phone'] = \"555-555-5555\"\n",
    "contact['message'] = \"This is a test contact.\"\n",
    "#Build message text\n",
    "text = f\"\"\"Name: {contact['name']}\n",
    "  E-mail: {contact['email']}\n",
    "  Phone: {contact['phone']}\n",
    "  Message: {contact['message']}\n",
    "  \"\"\"\n",
    "\n",
    "#Create MIME Text object\n",
    "message = MIMEText(text, 'plain')\n",
    "message['Subject'] = \"Test Email\"\n",
    "message['From'] = sender_email\n",
    "message['To'] = receiver_email\n",
    "\n",
    "with smtplib.SMTP(smtp_server, port) as server:\n",
    "  server.starttls()\n",
    "  server.login(login, password)\n",
    "  server.sendmail(sender_email, receiver_email, message.as_string())\n",
    "\n",
    "print(\"Sent!\")\n"
   ]
  }
 ],
 "metadata": {
  "kernelspec": {
   "display_name": "Python 3",
   "language": "python",
   "name": "python3"
  },
  "language_info": {
   "codemirror_mode": {
    "name": "ipython",
    "version": 3
   },
   "file_extension": ".py",
   "mimetype": "text/x-python",
   "name": "python",
   "nbconvert_exporter": "python",
   "pygments_lexer": "ipython3",
   "version": "3.12.1"
  }
 },
 "nbformat": 4,
 "nbformat_minor": 2
}
