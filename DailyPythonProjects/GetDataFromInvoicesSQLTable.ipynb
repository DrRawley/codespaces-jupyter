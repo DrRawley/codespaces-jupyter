{
 "cells": [
  {
   "cell_type": "code",
   "execution_count": 16,
   "metadata": {},
   "outputs": [
    {
     "name": "stdout",
     "output_type": "stream",
     "text": [
      "(1, 2, '2009-01-01 00:00:00', 'Theodor-Heuss-Straße 34', 'Stuttgart', None, 'Germany', '70174', 1.98)\n",
      "(6, 37, '2009-01-19 00:00:00', 'Berger Straße 10', 'Frankfurt', None, 'Germany', '60316', 0.99)\n",
      "(7, 38, '2009-02-01 00:00:00', 'Barbarossastraße 19', 'Berlin', None, 'Germany', '10779', 1.98)\n",
      "(29, 36, '2009-05-05 00:00:00', 'Tauentzienstraße 8', 'Berlin', None, 'Germany', '10789', 1.98)\n",
      "(104, 38, '2010-03-29 00:00:00', 'Barbarossastraße 19', 'Berlin', None, 'Germany', '10779', 0.99)\n",
      "(127, 37, '2010-07-13 00:00:00', 'Berger Straße 10', 'Frankfurt', None, 'Germany', '60316', 1.98)\n",
      "(196, 2, '2011-05-19 00:00:00', 'Theodor-Heuss-Straße 34', 'Stuttgart', None, 'Germany', '70174', 1.98)\n",
      "(224, 36, '2011-09-20 00:00:00', 'Tauentzienstraße 8', 'Berlin', None, 'Germany', '10789', 1.98)\n",
      "(225, 38, '2011-09-20 00:00:00', 'Barbarossastraße 19', 'Berlin', None, 'Germany', '10779', 1.98)\n",
      "(293, 2, '2012-07-13 00:00:00', 'Theodor-Heuss-Straße 34', 'Stuttgart', None, 'Germany', '70174', 0.99)\n",
      "(321, 36, '2012-11-14 00:00:00', 'Tauentzienstraße 8', 'Berlin', None, 'Germany', '10789', 0.99)\n",
      "(322, 37, '2012-11-27 00:00:00', 'Berger Straße 10', 'Frankfurt', None, 'Germany', '60316', 1.98)\n"
     ]
    }
   ],
   "source": [
    "import sqlite3\n",
    "# import os\n",
    "# print(os.getcwd())\n",
    "\n",
    "# Connect to db\n",
    "conn = sqlite3.connect('../data/dataInvoiceSQL.db')\n",
    "# Create cursor object\n",
    "cursor = conn.cursor()\n",
    "# Query data\n",
    "# cursor.execute(\"\"\"SELECT name FROM sqlite_master WHERE type='table' \"\"\")\n",
    "cursor.execute(\"\"\"SELECT * FROM invoices WHERE BillingCountry='Germany' AND Total>=\"2\" \"\"\")\n",
    "# Fetch and print all rows\n",
    "# print(cursor.fetchall())\n",
    "rows = cursor.fetchall()\n",
    "for row in rows:\n",
    "  print(row)\n",
    "\n",
    "# Close connection\n",
    "conn.close()\n"
   ]
  }
 ],
 "metadata": {
  "kernelspec": {
   "display_name": "Python 3",
   "language": "python",
   "name": "python3"
  },
  "language_info": {
   "codemirror_mode": {
    "name": "ipython",
    "version": 3
   },
   "file_extension": ".py",
   "mimetype": "text/x-python",
   "name": "python",
   "nbconvert_exporter": "python",
   "pygments_lexer": "ipython3",
   "version": "3.12.1"
  }
 },
 "nbformat": 4,
 "nbformat_minor": 2
}
