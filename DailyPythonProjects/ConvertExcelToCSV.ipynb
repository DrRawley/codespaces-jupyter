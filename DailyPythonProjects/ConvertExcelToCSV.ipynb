{
 "cells": [
  {
   "cell_type": "markdown",
   "metadata": {},
   "source": [
    "# Convert Excel to CSV with Python\n",
    "MAY 21, 2024\n",
    "\n",
    "## Project Brief\n",
    "Your task for this project is to convert this Excel file to a CSV file.\n",
    "\n",
    "## Expected Output\n",
    "The expected output is a newly generated CSV file that contains the same data as the Excel file.\n",
    "\n",
    "## Environment Setup Instructions\n",
    "Install the required libraries with:<br>\n",
    "`pip install openpyxl pandas`<br>\n",
    "Upgrade openpyxl<br>\n",
    "`pip install openpyxl --upgrade --pre`\n",
    "\n",
    "\n",
    "## Resources\n",
    "Learn how to handle Excel files:<br>\n",
    "https://pythonhow.com/how/add-a-new-column-to-an-excel-file/\n",
    "\n",
    "Learn how to perform more operations using the pandas library here:<br>\n",
    "https://pythonhow.com/python-tutorial/pandas/intro/"
   ]
  },
  {
   "cell_type": "code",
   "execution_count": 3,
   "metadata": {},
   "outputs": [
    {
     "name": "stdout",
     "output_type": "stream",
     "text": [
      "                   Country  Latitude  Longitude\n",
      "0                  Albania   41.1533    20.1683\n",
      "1                  Andorra   42.5462     1.6016\n",
      "2                  Austria   47.5162    14.5501\n",
      "3                  Belarus   53.7098    27.9534\n",
      "4                  Belgium   50.8503     4.3517\n",
      "5   Bosnia and Herzegovina   43.9159    17.6791\n",
      "6                 Bulgaria   42.7339    25.4858\n",
      "7                  Croatia   45.1000    15.2000\n",
      "8                   Cyprus   35.1264    33.4299\n",
      "9           Czech Republic   49.8175    15.4720\n",
      "10                 Denmark   56.2639     9.5018\n",
      "11                 Estonia   58.5953    25.0136\n",
      "12           Faroe Islands   62.0079    -6.7735\n",
      "13                 Finland   61.9241    25.7482\n",
      "14                  France   46.6034     1.8883\n",
      "15                 Germany   51.1657    10.4515\n",
      "16               Gibraltar   36.1408    -5.3536\n",
      "17                  Greece   39.0742    21.8243\n",
      "18                Guernsey   49.4657    -2.5853\n",
      "19                 Hungary   47.1625    19.5033\n",
      "20                 Iceland   64.9631   -19.0208\n",
      "21                 Ireland   53.4129    -8.2439\n",
      "22             Isle of Man   54.2361    -4.5481\n",
      "23                   Italy   41.8719    12.5674\n",
      "24                  Jersey   49.2144    -2.1313\n",
      "25                  Kosovo   42.6026    20.9026\n",
      "26                  Latvia   56.8796    24.6032\n",
      "27           Liechtenstein   47.1660     9.5554\n",
      "28               Lithuania   55.1694    23.8813\n",
      "29              Luxembourg   49.8153     6.1296\n",
      "30                   Malta   35.9375    14.3754\n",
      "31                 Moldova   47.4116    28.3699\n",
      "32                  Monaco   43.7384     7.4246\n",
      "33              Montenegro   42.7087    19.3744\n",
      "34             Netherlands   52.1326     5.2913\n",
      "35         North Macedonia   41.6086    21.7453\n",
      "36                  Norway   60.4720     8.4689\n",
      "37                  Poland   51.9194    19.1451\n",
      "38                Portugal   39.3999    -8.2245\n",
      "39                 Romania   45.9432    24.9668\n",
      "40                  Russia   61.5240   105.3188\n",
      "41              San Marino   43.9424    12.4578\n",
      "42                  Serbia   44.0165    21.0059\n",
      "43                Slovakia   48.6690    19.6990\n",
      "44                Slovenia   46.1512    14.9955\n",
      "45                   Spain   40.4637    -3.7492\n",
      "46  Svalbard and Jan Mayen   77.5536    23.6703\n",
      "47                  Sweden   60.1282    18.6435\n",
      "48             Switzerland   46.8182     8.2275\n",
      "49                 Ukraine   48.3794    31.1656\n",
      "50          United Kingdom   55.3781    -3.4360\n",
      "51            Vatican City   41.9029    12.4534\n"
     ]
    }
   ],
   "source": [
    "import openpyxl\n",
    "import pandas as pd\n",
    "\n",
    "df = pd.read_excel('../data/europe.xlsx')\n",
    "\n",
    "print(df)\n",
    "\n",
    "df.to_csv('../data/europeConvert.csv', index=False)\n"
   ]
  }
 ],
 "metadata": {
  "kernelspec": {
   "display_name": "Python 3",
   "language": "python",
   "name": "python3"
  },
  "language_info": {
   "codemirror_mode": {
    "name": "ipython",
    "version": 3
   },
   "file_extension": ".py",
   "mimetype": "text/x-python",
   "name": "python",
   "nbconvert_exporter": "python",
   "pygments_lexer": "ipython3",
   "version": "3.12.1"
  }
 },
 "nbformat": 4,
 "nbformat_minor": 2
}
