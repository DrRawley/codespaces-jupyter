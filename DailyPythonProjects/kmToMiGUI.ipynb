{
 "cells": [
  {
   "cell_type": "markdown",
   "metadata": {},
   "source": [
    "1. Project Brief\n",
    "Your task for this project is to create a desktop program that converts kilometers to miles. The program should have a desktop GUI. You can use any Python GUI library, but the code given in the solution section uses the Tkinter library.\n",
    "\n",
    "2. Project Expected Output\n",
    "Note that your GUI might look different, but its functionality should be similar to the following snapshot.\n",
    "https://substackcdn.com/image/fetch/w_1456,c_limit,f_webp,q_auto:good,fl_progressive:steep/https%3A%2F%2Fsubstack-post-media.s3.amazonaws.com%2Fpublic%2Fimages%2Ffe298789-02b0-43ec-9641-c6c049ae29e0_1072x558.png\n",
    "\n",
    "3. Environment Setup Instructions (in your local IDE)\n",
    "👉 Skip to the next step if you prefer to code this project in an online browser-based IDE or from your mobile phone.\n",
    "\n",
    "If you use Tkinter you don’t need to install anything.\n",
    "\n",
    "Execute the main.py file once you have finished coding.\n",
    "\n",
    "4. Environment Setup Instructions (in an online IDE as alternative)\n",
    "Prefer an online IDE? Use this cloud IDE link to start coding immediately with a pre-configured environment.\n",
    "\n",
    "5. Resources\n",
    "You can learn about creating GUIs with Tkinter in this post:\n",
    "\n",
    "https://pythonhow.com/how/create-a-simple-tkinter-app/"
   ]
  },
  {
   "cell_type": "code",
   "execution_count": 1,
   "metadata": {},
   "outputs": [],
   "source": [
    "from tkinter import *\n",
    "from tkinter import ttk\n"
   ]
  },
  {
   "cell_type": "code",
   "execution_count": 21,
   "metadata": {},
   "outputs": [],
   "source": [
    "#create tkinter window\n",
    "root = Tk()\n",
    "root.title(\"km to miles Converter\")\n",
    "frame = ttk.Frame(root, padding=50)\n",
    "frame.grid()\n",
    "\n",
    "#define label and box for km input\n",
    "ttk.Label(frame, text=\"Enter distance in kilometers:\").grid(column=0, row=0)\n",
    "km_entry = ttk.Entry(frame)\n",
    "km_entry.grid(column=1, row=0) #need to do this otherwise it won't return the object reference\n",
    "\n",
    "#define result label\n",
    "mi_label = ttk.Label(frame)\n",
    "mi_label.grid(column=0, row=2)\n",
    "\n",
    "#define conversion function\n",
    "def convert():\n",
    "  km = float(km_entry.get())  #get the value from the entry box\n",
    "  mi = km * 0.621371\n",
    "  result = \"Distance in miles: \" + str(mi)\n",
    "  mi_label.config(text=result)\n",
    "  pass\n",
    "#define convert button\n",
    "ttk.Button(frame, text=\"Convert\", command=convert, padding=2).grid(column=1, row=1)\n",
    "#add close button\n",
    "close_button = ttk.Button(frame, text=\"Quit\", command=root.destroy, padding=2).grid(column=0, row=4)\n",
    "#run to tkinter event loop\n",
    "root.mainloop()"
   ]
  }
 ],
 "metadata": {
  "kernelspec": {
   "display_name": "Python 3",
   "language": "python",
   "name": "python3"
  },
  "language_info": {
   "codemirror_mode": {
    "name": "ipython",
    "version": 3
   },
   "file_extension": ".py",
   "mimetype": "text/x-python",
   "name": "python",
   "nbconvert_exporter": "python",
   "pygments_lexer": "ipython3",
   "version": "3.12.1"
  }
 },
 "nbformat": 4,
 "nbformat_minor": 2
}
