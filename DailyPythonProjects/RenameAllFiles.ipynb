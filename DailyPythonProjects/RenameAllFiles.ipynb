{
 "cells": [
  {
   "cell_type": "markdown",
   "metadata": {},
   "source": [
    "# Rename all files in a directory\n",
    "1. Project Brief\n",
    "    Your task for this project is to batch-rename the files of a directory.\n",
    "\n",
    "2. Project Instructions\n",
    "    Create an empty directory manually.\n",
    "\n",
    "    Download and place these files in that directory.\n",
    "\n",
    "    Create an empty Python script outside of that directory.\n",
    "\n",
    "    Write a program in that script that renames all the files of the directory.\n",
    "\n",
    "    The new names should contain the current date (e.g., rename from a.txt to a-2024-3-24.txt)\n",
    "\n",
    "3. Environment Setup Instructions\n",
    "    To run the code, execute the main.py file with:\n",
    "    python run main.py\n",
    "\n",
    "4. Resources\n",
    "    Learn how to rename a file in the article below:\n",
    "    https://pythonhow.com/how/rename-a-file/"
   ]
  },
  {
   "cell_type": "code",
   "execution_count": 54,
   "metadata": {},
   "outputs": [
    {
     "name": "stdout",
     "output_type": "stream",
     "text": [
      "Today's date:  2024-04-29\n",
      "/workspaces/codespaces-jupyter/data/rename_project\n",
      "Files in directory:  ['a.txt', 'c.txt', 'b.txt', 'bob.txt', 'd.txt', 'e.txt']\n",
      "a-2024-04-29.txt\n",
      "c-2024-04-29.txt\n",
      "b-2024-04-29.txt\n",
      "bob-2024-04-29.txt\n",
      "d-2024-04-29.txt\n",
      "e-2024-04-29.txt\n"
     ]
    }
   ],
   "source": [
    "import os  #handles chdir, files\n",
    "import re  #regex\n",
    "from datetime import date\n",
    "today = str(date.today()) #get the date as a string\n",
    "print(\"Today's date: \", today)\n",
    "\n",
    "os.chdir(\"/workspaces/codespaces-jupyter/data/rename_project\")  #change to the dir where the sample files are\n",
    "print(os.getcwd())  #prints current working directory\n",
    "files = os.listdir() \n",
    "print(\"Files in directory: \", files)\n",
    "\n",
    "for file in files:\n",
    "    [old_filename_prefix, old_filename_suffix] = re.split(\"\\.\", file, 1)  # the ,1 means split at first occurence\n",
    "    new_file_name = old_filename_prefix + \"-\" + today + \".\" + old_filename_suffix\n",
    "    print(new_file_name)\n",
    "    os.rename(file, new_file_name)\n",
    "    pass\n"
   ]
  },
  {
   "cell_type": "code",
   "execution_count": 55,
   "metadata": {},
   "outputs": [
    {
     "name": "stdout",
     "output_type": "stream",
     "text": [
      "/workspaces/codespaces-jupyter/data/rename_project\n",
      "Files in directory:  ['b-2024-04-29.txt', 'a-2024-04-29.txt', 'c-2024-04-29.txt', 'bob-2024-04-29.txt', 'd-2024-04-29.txt', 'e-2024-04-29.txt']\n",
      "b txt\n",
      "b.txt\n",
      "a txt\n",
      "a.txt\n",
      "c txt\n",
      "c.txt\n",
      "bob txt\n",
      "bob.txt\n",
      "d txt\n",
      "d.txt\n",
      "e txt\n",
      "e.txt\n"
     ]
    }
   ],
   "source": [
    "#Undo rename\n",
    "import os\n",
    "os.chdir(\"/workspaces/codespaces-jupyter/data/rename_project\")\n",
    "print(os.getcwd())\n",
    "files = os.listdir()\n",
    "print(\"Files in directory: \", files)\n",
    "\n",
    "for file in files:\n",
    "    [old_filename_prefix, old_filename_suffix] = re.split(\"\\-\", file, 1) #splits after the original name\n",
    "    [trash, old_filename_suffix] = re.split(\"\\.\", old_filename_suffix, 1) #splits at the .\n",
    "    #print(old_filename_prefix, old_filename_suffix)\n",
    "    new_file_name = old_filename_prefix + \".\" + old_filename_suffix\n",
    "    print(new_file_name)\n",
    "    os.rename(file, new_file_name)\n",
    "    pass"
   ]
  }
 ],
 "metadata": {
  "kernelspec": {
   "display_name": "Python 3",
   "language": "python",
   "name": "python3"
  },
  "language_info": {
   "codemirror_mode": {
    "name": "ipython",
    "version": 3
   },
   "file_extension": ".py",
   "mimetype": "text/x-python",
   "name": "python",
   "nbconvert_exporter": "python",
   "pygments_lexer": "ipython3",
   "version": "3.10.13"
  }
 },
 "nbformat": 4,
 "nbformat_minor": 2
}
