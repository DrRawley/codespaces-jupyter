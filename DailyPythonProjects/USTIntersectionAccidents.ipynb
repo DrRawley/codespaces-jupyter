{
 "cells": [
  {
   "cell_type": "markdown",
   "metadata": {},
   "source": [
    "# Map of US T-Intersection Car Accidents with Python\n",
    "May 6, 2024\n",
    "## Project Brief\n",
    "Let’s start the week by using Python to create a map of all car accidents that occurred at T-intersections across the US in 2022. You are recommended to use the Folium library for this. With Folium you can build interactive web-based maps.\n",
    "## Expected Output\n",
    "Your program should generate an HTML file. The HTML file should show the following interactive map when opened in a browser:<br>\n",
    "![Example Map](917b62c3-aa78-48be-9230-cf75af5a7593_600x338.webp)\n",
    "<br>As you can see, we have used clustering here due to having too many points to display all at once. Each blue marker represents the location of an accident. When the user clicks a marker, information about the accident pops up. This information is taken from the MAN_COLLNAME column in the data. You can download the data from this [Google Drive link](https://drive.google.com/file/d/13sVmg4aVBeeEDMhhzqu-IYHuH-9VJMdH/view?usp=sharing). The data contain all the accidents at T-intersections across the United States in 2022 and they include latitude and longitude coordinates for each accident. The data were downloaded from the National Highway Traffic Safety Administration (NHTSA) website: https://www.nhtsa.gov/file-downloads?p=nhtsa/downloads/FARS/\n",
    "## Environment Setup Instructions\n",
    "Install the required libraries with:\n",
    "- ```pip install folium pandas```\n",
    "- Run the app with python main.py and an HTML file should be generated in the project directory. Double-click that file to open it in the browser to see the map.\n",
    "## Resources\n",
    "Learn how to use the Folium library from the official documentation:<br>\n",
    "https://python-visualization.github.io/folium/latest/"
   ]
  },
  {
   "cell_type": "code",
   "execution_count": null,
   "metadata": {},
   "outputs": [],
   "source": [
    "# folium map test\n",
    "import pandas as pd\n",
    "import os\n",
    "import folium\n",
    "\n",
    "m = folium.Map(location=(32.5,-85))\n",
    "folium.Marker(\n",
    "  location=[32.45580028288252, -84.99282628467093],\n",
    "  tooltip=\"Rawley\",\n",
    "  popup=\"Rawley's Apt.\",\n",
    "  icon=folium.Icon(prefix=\"fa\", icon=\"building\")\n",
    ").add_to(m)\n",
    "m\n"
   ]
  },
  {
   "cell_type": "code",
   "execution_count": null,
   "metadata": {},
   "outputs": [],
   "source": [
    "# pandas test\n",
    "import pandas as pd\n",
    "\n",
    "df = pd.read_csv(\"../data/accidents.csv\", delimiter=\";\")\n",
    "\n",
    "#print(df)\n",
    "#print(df.loc[[0,1]]) #print rows 0 and 1\n",
    "#print(df.tail())  #print the last 5 rows\n",
    "#print(df.info())\n",
    "#print(df.loc[500, \"STATENAME\"])\n",
    "#print(df.loc[500, \"LATITUDE\"])\n",
    "#print(df.loc[500, \"LONGITUD\"])\n",
    "#print(df.index)\n",
    "\n",
    "#test leading zero formatting for two-digit minutes\n",
    "for i in df.index:\n",
    "  print(f\"{\"%02d\" % df.loc[i, 'MINUTE']}\")\n"
   ]
  },
  {
   "cell_type": "code",
   "execution_count": null,
   "metadata": {},
   "outputs": [],
   "source": [
    "# main program\n",
    "import pandas as pd\n",
    "import os\n",
    "import folium\n",
    "from folium.plugins import MarkerCluster\n",
    "import branca\n",
    "\n",
    "df = pd.read_csv(\"../data/accidents.csv\", delimiter=\";\")\n",
    "\n",
    "m = folium.Map(location=(39.833333,-98.583333), zoom_start=5)\n",
    "marker_cluster = MarkerCluster().add_to(m)\n",
    "\n",
    "#for i in range(0,11):\n",
    "for i in df.index:\n",
    "  lat = df.loc[i, 'LATITUDE']\n",
    "  long = df.loc[i, 'LONGITUD']\n",
    "  citystate = df.loc[i, 'CITYNAME'].title() + \", \" + df.loc[i, 'STATENAME']\n",
    "  desc = f\"\"\"\n",
    "    <html>\n",
    "    <body>\n",
    "    {df.loc[i, 'MONTHNAME']} {df.loc[i, 'DAYNAME']}, {df.loc[i, 'YEAR']} -- {df.loc[i, \"HOUR\"]}:{\"%02d\" % df.loc[i, 'MINUTE']}<br>\n",
    "    {citystate}<br>\n",
    "    {str(df.loc[i, 'TWAY_ID']).title()} and {str(df.loc[i, 'TWAY_ID2']).title()}<br>\n",
    "    Fatalities: {df.loc[i, 'FATALS']}<br>\n",
    "    </body>\n",
    "    </html>\n",
    "  \"\"\"\n",
    "  iframe = branca.element.IFrame(html=desc, width=250, height=100)  \n",
    "  print(i, lat, long)\n",
    "  radius = 10\n",
    "  folium.CircleMarker(\n",
    "    location=[lat , long],\n",
    "    radius=radius,\n",
    "    color=\"red\",\n",
    "    stroke=False,\n",
    "    fill=True,\n",
    "    fill_opacity=1,\n",
    "    opacity=1,\n",
    "    tooltip=citystate,\n",
    "    popup=folium.Popup(iframe)\n",
    "\n",
    "  ).add_to(marker_cluster)\n",
    "\n",
    "m.save(\"accidents.html\")\n"
   ]
  },
  {
   "cell_type": "markdown",
   "metadata": {},
   "source": [
    "# Website with Map of US T-Intersection Car Accidents with Python and Flask\n",
    "## Project Brief\n",
    "In yesterday’s project, we generated an HTML showing a map of vehicle accidents at T-intersections across the US in 2022. The problem with that HTML map is that you can’t easily share it with others since it is just an HTML file. That’s where Flask enters the game. Your task for this project is to create a website using Flask. The website should contain the map on the webpage.\n",
    "## Expected Output\n",
    "The website should contain only one page and that page should contain the interactive map.\n",
    "## Resources\n",
    "Learn how to use the Folium library from the official documentation:\n",
    "<br>https://python-visualization.github.io/folium/latest/\n",
    "<br>Learn how to create a Flask app:\n",
    "<br>https://pythonhow.com/how/create-flasks-apps/"
   ]
  },
  {
   "cell_type": "code",
   "execution_count": null,
   "metadata": {},
   "outputs": [],
   "source": [
    "#Flask app\n",
    "from flask import Flask, send_file\n",
    "\n",
    "app = Flask(__name__)\n",
    "\n",
    "#default root route to map container page\n",
    "@app.route('/')\n",
    "def accident_map():\n",
    "  return send_file('accident_map_page.html')\n",
    "\n",
    "#serves the actual map file for use in an iframe in the above page.\n",
    "@app.route('/accidents.html')\n",
    "def accidents():\n",
    "  return send_file('accidents.html')\n",
    "\n",
    "app.run()\n",
    "\n"
   ]
  }
 ],
 "metadata": {
  "kernelspec": {
   "display_name": "Python 3",
   "language": "python",
   "name": "python3"
  },
  "language_info": {
   "codemirror_mode": {
    "name": "ipython",
    "version": 3
   },
   "file_extension": ".py",
   "mimetype": "text/x-python",
   "name": "python",
   "nbconvert_exporter": "python",
   "pygments_lexer": "ipython3",
   "version": "3.12.1"
  }
 },
 "nbformat": 4,
 "nbformat_minor": 2
}
