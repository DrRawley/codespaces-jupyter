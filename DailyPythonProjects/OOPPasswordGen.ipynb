{
 "cells": [
  {
   "cell_type": "markdown",
   "metadata": {},
   "source": [
    "# Convert the following program to object oriented\n",
    "## April 29, 2024"
   ]
  },
  {
   "cell_type": "code",
   "execution_count": 3,
   "metadata": {},
   "outputs": [
    {
     "name": "stdout",
     "output_type": "stream",
     "text": [
      "Generated password: 4a*0kW6WkG6(\n",
      "Password strength: 5\n"
     ]
    }
   ],
   "source": [
    "#Original Code\n",
    "import random\n",
    "\n",
    "# Function to generate a random password\n",
    "def generate_password(length):\n",
    "    characters = \"abcdefghijklmnopqrstuvwxyzABCDEFGHIJKLMNOPQRSTUVWXYZ1234567890!@#$%^&*()\"\n",
    "    password = ''.join(random.choice(characters) for i in range(length))\n",
    "    return password\n",
    "\n",
    "# Function to check password strength\n",
    "def check_password_strength(password):\n",
    "    # Define criteria for a strong password\n",
    "    criteria = {\n",
    "        'length': len(password) >= 8,\n",
    "        'lowercase': any(char.islower() for char in password),\n",
    "        'uppercase': any(char.isupper() for char in password),\n",
    "        'digit': any(char.isdigit() for char in password),\n",
    "        'special': any(char in \"!@#$%^&*()\" for char in password)\n",
    "    }\n",
    "    # Count how many criteria are met\n",
    "    strength = sum(criteria.values())\n",
    "    return strength\n",
    "\n",
    "# Generate and print a random password of length 12\n",
    "password = generate_password(12)\n",
    "print(\"Generated password:\", password)\n",
    "\n",
    "# Check the strength of the generated password\n",
    "strength = check_password_strength(password)\n",
    "print(\"Password strength:\", strength)"
   ]
  },
  {
   "cell_type": "markdown",
   "metadata": {},
   "source": [
    "# Convert to OOP primer\n",
    "https://pythonhow.com/what/classes-and-oop-in-python/?utm_source=substack&utm_medium=email"
   ]
  },
  {
   "cell_type": "code",
   "execution_count": 10,
   "metadata": {},
   "outputs": [
    {
     "name": "stdout",
     "output_type": "stream",
     "text": [
      "Generated password:  tpi)JSfmsVKj\n",
      "Password strength:  4\n"
     ]
    }
   ],
   "source": [
    "# OOP version\n",
    "import random\n",
    "\n",
    "#Create password class\n",
    "class Password:\n",
    "    def __init__(self, length):\n",
    "        self.strength = 0\n",
    "        self.length = length\n",
    "        # Generate a random password\n",
    "        characters = \"abcdefghijklmnopqrstuvwxyzABCDEFGHIJKLMNOPQRSTUVWXYZ1234567890!@#$%^&*()\"\n",
    "        self.password = ''.join(random.choice(characters) for i in range(self.length))\n",
    "\n",
    "    # Function to check password strength\n",
    "    def check_password_strength(self):\n",
    "        # Define criteria for a strong password\n",
    "        criteria = {\n",
    "            'length': len(self.password) >= 8,\n",
    "            'lowercase': any(char.islower() for char in self.password),\n",
    "            'uppercase': any(char.isupper() for char in self.password),\n",
    "            'digit': any(char.isdigit() for char in self.password),\n",
    "            'special': any(char in \"!@#$%^&*()\" for char in self.password)\n",
    "        }\n",
    "        # Count how many criteria are met\n",
    "        self.strength = sum(criteria.values())\n",
    "        return None\n",
    "    \n",
    "#Generate new password\n",
    "passwd = Password(12)\n",
    "print(\"Generated password: \", passwd.password)\n",
    "passwd.check_password_strength()\n",
    "print(\"Password strength: \", passwd.strength)\n",
    "\n",
    "\n"
   ]
  }
 ],
 "metadata": {
  "kernelspec": {
   "display_name": "Python 3",
   "language": "python",
   "name": "python3"
  },
  "language_info": {
   "codemirror_mode": {
    "name": "ipython",
    "version": 3
   },
   "file_extension": ".py",
   "mimetype": "text/x-python",
   "name": "python",
   "nbconvert_exporter": "python",
   "pygments_lexer": "ipython3",
   "version": "3.10.13"
  }
 },
 "nbformat": 4,
 "nbformat_minor": 2
}
